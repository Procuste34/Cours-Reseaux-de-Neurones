{
 "cells": [
  {
   "cell_type": "markdown",
   "metadata": {},
   "source": [
    "# Manipulation de graphes"
   ]
  },
  {
   "cell_type": "markdown",
   "metadata": {},
   "source": [
    "<center>\n",
    "<img src=\"graphe_bfs_simple.png\" alt=\"graphe\" style=\"width: 400px;\"/>\n",
    "</center>"
   ]
  },
  {
   "cell_type": "code",
   "execution_count": 16,
   "metadata": {},
   "outputs": [],
   "source": [
    "G = {1: [3, 4, 6], #voisins du sommet 1\n",
    "     2: [4, 8, 7],\n",
    "     3: [7, 1, 6],\n",
    "     4: [2, 1, 5],\n",
    "     5: [4, 9],\n",
    "     6: [1, 3, 9],\n",
    "     7: [2, 8, 3],\n",
    "     8: [2, 7],\n",
    "     9: [5, 6]}"
   ]
  },
  {
   "cell_type": "markdown",
   "metadata": {},
   "source": [
    "# parcours en largeur"
   ]
  },
  {
   "cell_type": "code",
   "execution_count": 46,
   "metadata": {},
   "outputs": [],
   "source": [
    "def parcours(s0):\n",
    "    aTraiter = []\n",
    "    dejaVu = []\n",
    "\n",
    "    aTraiter.append(s0)\n",
    "    dejaVu.append(s0)\n",
    "    \n",
    "    while aTraiter:\n",
    "        s = aTraiter[0]\n",
    "        aTraiter = aTraiter[1:]\n",
    "        \n",
    "        print(\"traitement \" + str(s))\n",
    "        \n",
    "        for t in G[s]:\n",
    "            if t not in dejaVu:\n",
    "                aTraiter.append(t)\n",
    "                dejaVu.append(t)"
   ]
  },
  {
   "cell_type": "code",
   "execution_count": 47,
   "metadata": {},
   "outputs": [
    {
     "name": "stdout",
     "output_type": "stream",
     "text": [
      "traitement 1\n",
      "traitement 3\n",
      "traitement 4\n",
      "traitement 6\n",
      "traitement 7\n",
      "traitement 2\n",
      "traitement 5\n",
      "traitement 9\n",
      "traitement 8\n"
     ]
    }
   ],
   "source": [
    "parcours(1)"
   ]
  },
  {
   "cell_type": "markdown",
   "metadata": {},
   "source": [
    "# parcours en profondeur"
   ]
  },
  {
   "cell_type": "code",
   "execution_count": 51,
   "metadata": {},
   "outputs": [],
   "source": [
    "def parcours(s0):\n",
    "    aTraiter = []\n",
    "    dejaVu = []\n",
    "\n",
    "    aTraiter.append(s0)\n",
    "    dejaVu.append(s0)\n",
    "    \n",
    "    while aTraiter:\n",
    "        s = aTraiter.pop()\n",
    "        \n",
    "        print(\"traitement \" + str(s))\n",
    "        \n",
    "        for t in G[s]:\n",
    "            if t not in dejaVu:\n",
    "                aTraiter.append(t)\n",
    "                dejaVu.append(t)"
   ]
  },
  {
   "cell_type": "code",
   "execution_count": 52,
   "metadata": {},
   "outputs": [
    {
     "name": "stdout",
     "output_type": "stream",
     "text": [
      "traitement 1\n",
      "traitement 6\n",
      "traitement 9\n",
      "traitement 5\n",
      "traitement 4\n",
      "traitement 2\n",
      "traitement 7\n",
      "traitement 8\n",
      "traitement 3\n"
     ]
    }
   ],
   "source": [
    "parcours(1)"
   ]
  },
  {
   "cell_type": "markdown",
   "metadata": {},
   "source": [
    "# parcours en profondeur récursif"
   ]
  },
  {
   "cell_type": "code",
   "execution_count": 14,
   "metadata": {},
   "outputs": [],
   "source": [
    "dejaVu = []\n",
    "\n",
    "def parcours_r(s):\n",
    "    dejaVu.append(s)\n",
    "    \n",
    "    print(\"traitement \" + str(s))\n",
    "    \n",
    "    for t in G[s]:\n",
    "        if t not in dejaVu:\n",
    "            parcours_r(t)"
   ]
  },
  {
   "cell_type": "code",
   "execution_count": 15,
   "metadata": {},
   "outputs": [
    {
     "name": "stdout",
     "output_type": "stream",
     "text": [
      "traitement 1\n",
      "traitement 3\n",
      "traitement 7\n",
      "traitement 2\n",
      "traitement 4\n",
      "traitement 5\n",
      "traitement 9\n",
      "traitement 6\n",
      "traitement 8\n"
     ]
    }
   ],
   "source": [
    "parcours_r(1)"
   ]
  },
  {
   "cell_type": "code",
   "execution_count": 21,
   "metadata": {},
   "outputs": [
    {
     "data": {
      "text/plain": [
       "9"
      ]
     },
     "execution_count": 21,
     "metadata": {},
     "output_type": "execute_result"
    }
   ],
   "source": [
    "len(G)"
   ]
  },
  {
   "cell_type": "code",
   "execution_count": null,
   "metadata": {},
   "outputs": [],
   "source": []
  }
 ],
 "metadata": {
  "kernelspec": {
   "display_name": "Python 3",
   "language": "python",
   "name": "python3"
  },
  "language_info": {
   "codemirror_mode": {
    "name": "ipython",
    "version": 3
   },
   "file_extension": ".py",
   "mimetype": "text/x-python",
   "name": "python",
   "nbconvert_exporter": "python",
   "pygments_lexer": "ipython3",
   "version": "3.7.7"
  }
 },
 "nbformat": 4,
 "nbformat_minor": 4
}
